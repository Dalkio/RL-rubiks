{
 "cells": [
  {
   "cell_type": "code",
   "execution_count": 1,
   "metadata": {},
   "outputs": [],
   "source": [
    "import numpy as np\n",
    "import pandas as pd\n",
    "import json\n",
    "%matplotlib qt\n",
    "from rubiks_cube import RubiksCube, RubiksAction"
   ]
  },
  {
   "cell_type": "code",
   "execution_count": 6,
   "metadata": {},
   "outputs": [
    {
     "name": "stdout",
     "output_type": "stream",
     "text": [
      "Is resolved: True\n"
     ]
    }
   ],
   "source": [
    "rubiks_cube = RubiksCube(dim=3, shuffle=False)\n",
    "print('Is resolved: {0}'.format(rubiks_cube.is_resolved()))"
   ]
  },
  {
   "cell_type": "code",
   "execution_count": null,
   "metadata": {
    "scrolled": true
   },
   "outputs": [],
   "source": [
    "with open('example/example.json', 'r') as fp:\n",
    "    example = json.load(fp)\n",
    "rubiks_cube = RubiksCube(cube=np.asarray(example['cube']), verbose=True)\n",
    "for action in example['actions']:\n",
    "    step, reward, done, _ = rubiks_cube.step(RubiksAction(action))\n",
    "print('Is resolved: ', done)"
   ]
  },
  {
   "cell_type": "code",
   "execution_count": 10,
   "metadata": {},
   "outputs": [],
   "source": [
    "rubiks_cube.render()"
   ]
  }
 ],
 "metadata": {
  "kernelspec": {
   "display_name": "Python 3",
   "language": "python",
   "name": "python3"
  },
  "language_info": {
   "codemirror_mode": {
    "name": "ipython",
    "version": 3
   },
   "file_extension": ".py",
   "mimetype": "text/x-python",
   "name": "python",
   "nbconvert_exporter": "python",
   "pygments_lexer": "ipython3",
   "version": "3.6.8"
  }
 },
 "nbformat": 4,
 "nbformat_minor": 2
}
