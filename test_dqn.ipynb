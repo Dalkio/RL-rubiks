{
 "cells": [
  {
   "cell_type": "code",
   "execution_count": 3,
   "metadata": {},
   "outputs": [
    {
     "name": "stderr",
     "output_type": "stream",
     "text": [
      "Using TensorFlow backend.\n"
     ]
    }
   ],
   "source": [
    "from deep_q_agent import DQNAgent\n",
    "from rubiks_cube import RubiksCube, RubiksAction"
   ]
  },
  {
   "cell_type": "code",
   "execution_count": 4,
   "metadata": {},
   "outputs": [
    {
     "name": "stdout",
     "output_type": "stream",
     "text": [
      "Cube initialized!\n"
     ]
    }
   ],
   "source": [
    "dqn_agent = DQNAgent(environment_type=RubiksCube, action_type=RubiksAction)"
   ]
  },
  {
   "cell_type": "code",
   "execution_count": 6,
   "metadata": {},
   "outputs": [
    {
     "name": "stdout",
     "output_type": "stream",
     "text": [
      "Cube initialized!\n",
      "Step: 0, reward: 19\n",
      "Step: 100, reward: 17\n",
      "Step: 200, reward: 11\n",
      "Step: 300, reward: 14\n",
      "Step: 400, reward: 10\n",
      "Step: 500, reward: 11\n",
      "Step: 600, reward: 13\n",
      "Step: 700, reward: 21\n",
      "Step: 800, reward: 13\n",
      "Step: 900, reward: 19\n"
     ]
    }
   ],
   "source": [
    "dqn_agent.train(episodes=1)"
   ]
  }
 ],
 "metadata": {
  "kernelspec": {
   "display_name": "Python 3",
   "language": "python",
   "name": "python3"
  },
  "language_info": {
   "codemirror_mode": {
    "name": "ipython",
    "version": 3
   },
   "file_extension": ".py",
   "mimetype": "text/x-python",
   "name": "python",
   "nbconvert_exporter": "python",
   "pygments_lexer": "ipython3",
   "version": "3.6.5"
  }
 },
 "nbformat": 4,
 "nbformat_minor": 2
}
