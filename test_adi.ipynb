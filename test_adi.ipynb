{
 "cells": [
  {
   "cell_type": "code",
   "execution_count": 1,
   "metadata": {},
   "outputs": [
    {
     "name": "stderr",
     "output_type": "stream",
     "text": [
      "Using TensorFlow backend.\n"
     ]
    }
   ],
   "source": [
    "from adi import ADI"
   ]
  },
  {
   "cell_type": "code",
   "execution_count": 2,
   "metadata": {},
   "outputs": [
    {
     "name": "stdout",
     "output_type": "stream",
     "text": [
      "2019-02-15 20:43:07,708 — _generate_dataset() — INFO — Generating dataset...\n",
      "2019-02-15 20:43:07,760 — _generate_dataset() — INFO — 0.00%\n",
      "2019-02-15 20:43:23,772 — _generate_dataset() — INFO — 10.00%\n",
      "2019-02-15 20:43:39,803 — _generate_dataset() — INFO — 20.00%\n",
      "2019-02-15 20:43:55,730 — _generate_dataset() — INFO — 30.00%\n",
      "2019-02-15 20:44:11,734 — _generate_dataset() — INFO — 40.00%\n",
      "2019-02-15 20:44:27,728 — _generate_dataset() — INFO — 50.00%\n",
      "2019-02-15 20:44:43,716 — _generate_dataset() — INFO — 60.00%\n",
      "2019-02-15 20:44:59,680 — _generate_dataset() — INFO — 70.00%\n",
      "2019-02-15 20:45:16,194 — _generate_dataset() — INFO — 80.00%\n",
      "2019-02-15 20:45:33,265 — _generate_dataset() — INFO — 90.00%\n",
      "2019-02-15 20:45:51,269 — train() — INFO — Training model...\n",
      "2019-02-15 20:45:51,270 — train() — INFO — Batch number: 1\n",
      "Epoch 1/1\n",
      "1000/1000 [==============================] - 6s 6ms/step - loss: 78.1083 - value_output_loss: 76.2880 - policy_output_loss: 1.8203\n"
     ]
    }
   ],
   "source": [
    "adi = ADI(k=25, l=4000)\n",
    "adi.train(batches_number=1, epochs_per_batch=1)"
   ]
  },
  {
   "cell_type": "code",
   "execution_count": 3,
   "metadata": {},
   "outputs": [
    {
     "name": "stdout",
     "output_type": "stream",
     "text": [
      "2019-02-15 20:46:53,111 — _load_dataset() — INFO — Loading dataset...\n",
      "2019-02-15 20:46:53,113 — _load_dataset() — INFO — k=25, l=4000\n"
     ]
    }
   ],
   "source": [
    "adi = ADI(load_files=('scrambled_cubes_k25_l4000.npy', 'weights_k25_l4000.npy'))\n",
    "adi.train(batches_number=10, epochs_per_batch=5)"
   ]
  }
 ],
 "metadata": {
  "kernelspec": {
   "display_name": "Python 3",
   "language": "python",
   "name": "python3"
  },
  "language_info": {
   "codemirror_mode": {
    "name": "ipython",
    "version": 3
   },
   "file_extension": ".py",
   "mimetype": "text/x-python",
   "name": "python",
   "nbconvert_exporter": "python",
   "pygments_lexer": "ipython3",
   "version": "3.6.8"
  }
 },
 "nbformat": 4,
 "nbformat_minor": 2
}
